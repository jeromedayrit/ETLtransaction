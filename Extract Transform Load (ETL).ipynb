{
 "cells": [
  {
   "cell_type": "markdown",
   "id": "b9a4c50e",
   "metadata": {},
   "source": [
    "## Objectives\n",
    "\n",
    "After completing this lab you will be able to:\n",
    "\n",
    "-   Read CSV and JSON file types.\n",
    "-   Extract data from the above file types.\n",
    "-   Transform data.\n",
    "-   Save the transformed data in a ready-to-load format which data engineers can use to load into an RDBMS."
   ]
  },
  {
   "cell_type": "code",
   "execution_count": 1,
   "id": "8fca8f1d",
   "metadata": {},
   "outputs": [],
   "source": [
    "import glob\n",
    "import pandas as pd\n",
    "import xml.etree.ElementTree as ET\n",
    "from datetime import datetime"
   ]
  },
  {
   "cell_type": "code",
   "execution_count": 2,
   "id": "3a135e83",
   "metadata": {},
   "outputs": [],
   "source": [
    "def read_csv(file_to_process):\n",
    "    dt_csv = pd.read_csv(file_to_process)\n",
    "    return dt_csv"
   ]
  },
  {
   "cell_type": "code",
   "execution_count": 3,
   "id": "c5b1708d",
   "metadata": {},
   "outputs": [],
   "source": [
    "def read_json(file_to_process):\n",
    "    dt_json = pd.read_json(file_to_process, lines = True)\n",
    "    return dt_json"
   ]
  },
  {
   "cell_type": "code",
   "execution_count": 13,
   "id": "dccfb336",
   "metadata": {},
   "outputs": [],
   "source": [
    "def read_xml(file_to_process):\n",
    "    df = pd.DataFrame(columns=['name','height','weight'])\n",
    "    \n",
    "    tree = ET.parse(file_to_process)\n",
    "    root = tree.getroot()\n",
    "    \n",
    "    for person in root:\n",
    "        name = person.find('name').text\n",
    "        height = float(person.find('height').text)\n",
    "        weight = float(person.find('weight').text)\n",
    "        df = df.append({'name':name, 'height':height,'weight':weight}, ignore_index=True)\n",
    "    return df"
   ]
  },
  {
   "cell_type": "code",
   "execution_count": 5,
   "id": "3aea8efa",
   "metadata": {},
   "outputs": [],
   "source": [
    "def extract():\n",
    "    df_main = pd.DataFrame(columns=['name','height','weight'])\n",
    "    \n",
    "    #csv extract\n",
    "    for fname in glob.glob('source_file_practice/*.csv'):\n",
    "        df_main = df_main.append(read_csv(fname), ignore_index=True)\n",
    "    \n",
    "    #json extract\n",
    "    for fname in glob.glob('source_file_practice/*.json'):\n",
    "        df_main = df_main.append(read_json(fname), ignore_index=True)\n",
    "    \n",
    "    #xml extract\n",
    "    for fname in glob.glob('source_file_practice/*.xml'):\n",
    "        df_main = df_main.append(read_xml(fname), ignore_index=True)\n",
    "    \n",
    "    return df_main"
   ]
  },
  {
   "cell_type": "code",
   "execution_count": 6,
   "id": "80619483",
   "metadata": {},
   "outputs": [],
   "source": [
    "def transform(data):\n",
    "    data['height'] = data['height'].apply(lambda x : x * 0.0254)\n",
    "    data['weight'] = data['weight'].apply(lambda x : x * 0.45359237)\n",
    "    return data"
   ]
  },
  {
   "cell_type": "code",
   "execution_count": 7,
   "id": "132e9c08",
   "metadata": {},
   "outputs": [],
   "source": [
    "def load(fname, data):\n",
    "    data.to_csv('source_file_practice/' + fname)"
   ]
  },
  {
   "cell_type": "code",
   "execution_count": 8,
   "id": "0666ea8a",
   "metadata": {},
   "outputs": [],
   "source": [
    "def log(message):\n",
    "    timestamp_format = '%y-%h-%d-%Y:%H-%D'\n",
    "    now = datetime.now()\n",
    "    timestamp = now.strftime(timestamp_format)\n",
    "    \n",
    "    with open('source_file_practice/logging.txt','a') as f:\n",
    "        f.write(timestamp + ' ' + message + ' ' + '\\n')"
   ]
  },
  {
   "cell_type": "code",
   "execution_count": 9,
   "id": "78879327",
   "metadata": {},
   "outputs": [],
   "source": [
    "log('ETL Started')"
   ]
  },
  {
   "cell_type": "code",
   "execution_count": 10,
   "id": "63ef00cb",
   "metadata": {},
   "outputs": [],
   "source": [
    "log('Extract Begin')"
   ]
  },
  {
   "cell_type": "code",
   "execution_count": 14,
   "id": "0bfba72e",
   "metadata": {},
   "outputs": [],
   "source": [
    "df_extract = extract()"
   ]
  },
  {
   "cell_type": "code",
   "execution_count": 15,
   "id": "2a3b4783",
   "metadata": {},
   "outputs": [
    {
     "data": {
      "text/html": [
       "<div>\n",
       "<style scoped>\n",
       "    .dataframe tbody tr th:only-of-type {\n",
       "        vertical-align: middle;\n",
       "    }\n",
       "\n",
       "    .dataframe tbody tr th {\n",
       "        vertical-align: top;\n",
       "    }\n",
       "\n",
       "    .dataframe thead th {\n",
       "        text-align: right;\n",
       "    }\n",
       "</style>\n",
       "<table border=\"1\" class=\"dataframe\">\n",
       "  <thead>\n",
       "    <tr style=\"text-align: right;\">\n",
       "      <th></th>\n",
       "      <th>name</th>\n",
       "      <th>height</th>\n",
       "      <th>weight</th>\n",
       "    </tr>\n",
       "  </thead>\n",
       "  <tbody>\n",
       "    <tr>\n",
       "      <th>0</th>\n",
       "      <td>alex</td>\n",
       "      <td>65.78</td>\n",
       "      <td>112.99</td>\n",
       "    </tr>\n",
       "    <tr>\n",
       "      <th>1</th>\n",
       "      <td>ajay</td>\n",
       "      <td>71.52</td>\n",
       "      <td>136.49</td>\n",
       "    </tr>\n",
       "    <tr>\n",
       "      <th>2</th>\n",
       "      <td>alice</td>\n",
       "      <td>69.40</td>\n",
       "      <td>153.03</td>\n",
       "    </tr>\n",
       "    <tr>\n",
       "      <th>3</th>\n",
       "      <td>ravi</td>\n",
       "      <td>68.22</td>\n",
       "      <td>142.34</td>\n",
       "    </tr>\n",
       "    <tr>\n",
       "      <th>4</th>\n",
       "      <td>joe</td>\n",
       "      <td>67.79</td>\n",
       "      <td>144.30</td>\n",
       "    </tr>\n",
       "    <tr>\n",
       "      <th>5</th>\n",
       "      <td>jack</td>\n",
       "      <td>68.70</td>\n",
       "      <td>123.30</td>\n",
       "    </tr>\n",
       "    <tr>\n",
       "      <th>6</th>\n",
       "      <td>tom</td>\n",
       "      <td>69.80</td>\n",
       "      <td>141.49</td>\n",
       "    </tr>\n",
       "    <tr>\n",
       "      <th>7</th>\n",
       "      <td>tracy</td>\n",
       "      <td>70.01</td>\n",
       "      <td>136.46</td>\n",
       "    </tr>\n",
       "    <tr>\n",
       "      <th>8</th>\n",
       "      <td>john</td>\n",
       "      <td>67.90</td>\n",
       "      <td>112.37</td>\n",
       "    </tr>\n",
       "    <tr>\n",
       "      <th>9</th>\n",
       "      <td>simon</td>\n",
       "      <td>67.90</td>\n",
       "      <td>112.37</td>\n",
       "    </tr>\n",
       "    <tr>\n",
       "      <th>10</th>\n",
       "      <td>jacob</td>\n",
       "      <td>66.78</td>\n",
       "      <td>120.67</td>\n",
       "    </tr>\n",
       "    <tr>\n",
       "      <th>11</th>\n",
       "      <td>cindy</td>\n",
       "      <td>66.49</td>\n",
       "      <td>127.45</td>\n",
       "    </tr>\n",
       "    <tr>\n",
       "      <th>12</th>\n",
       "      <td>ivan</td>\n",
       "      <td>67.62</td>\n",
       "      <td>114.14</td>\n",
       "    </tr>\n",
       "  </tbody>\n",
       "</table>\n",
       "</div>"
      ],
      "text/plain": [
       "     name  height  weight\n",
       "0    alex   65.78  112.99\n",
       "1    ajay   71.52  136.49\n",
       "2   alice   69.40  153.03\n",
       "3    ravi   68.22  142.34\n",
       "4     joe   67.79  144.30\n",
       "5    jack   68.70  123.30\n",
       "6     tom   69.80  141.49\n",
       "7   tracy   70.01  136.46\n",
       "8    john   67.90  112.37\n",
       "9   simon   67.90  112.37\n",
       "10  jacob   66.78  120.67\n",
       "11  cindy   66.49  127.45\n",
       "12   ivan   67.62  114.14"
      ]
     },
     "execution_count": 15,
     "metadata": {},
     "output_type": "execute_result"
    }
   ],
   "source": [
    "df_extract"
   ]
  },
  {
   "cell_type": "code",
   "execution_count": 16,
   "id": "02cd3d56",
   "metadata": {},
   "outputs": [],
   "source": [
    "log('Extract End')"
   ]
  },
  {
   "cell_type": "code",
   "execution_count": 22,
   "id": "4ace6743",
   "metadata": {},
   "outputs": [],
   "source": [
    "log('Transform Begin')"
   ]
  },
  {
   "cell_type": "code",
   "execution_count": 44,
   "id": "b8842758",
   "metadata": {},
   "outputs": [],
   "source": [
    "df_transform = transform(df_extract)"
   ]
  },
  {
   "cell_type": "code",
   "execution_count": 45,
   "id": "a18eb3a0",
   "metadata": {},
   "outputs": [
    {
     "data": {
      "text/html": [
       "<div>\n",
       "<style scoped>\n",
       "    .dataframe tbody tr th:only-of-type {\n",
       "        vertical-align: middle;\n",
       "    }\n",
       "\n",
       "    .dataframe tbody tr th {\n",
       "        vertical-align: top;\n",
       "    }\n",
       "\n",
       "    .dataframe thead th {\n",
       "        text-align: right;\n",
       "    }\n",
       "</style>\n",
       "<table border=\"1\" class=\"dataframe\">\n",
       "  <thead>\n",
       "    <tr style=\"text-align: right;\">\n",
       "      <th></th>\n",
       "      <th>height</th>\n",
       "      <th>weight</th>\n",
       "    </tr>\n",
       "    <tr>\n",
       "      <th>name</th>\n",
       "      <th></th>\n",
       "      <th></th>\n",
       "    </tr>\n",
       "  </thead>\n",
       "  <tbody>\n",
       "    <tr>\n",
       "      <th>alex</th>\n",
       "      <td>0.042439</td>\n",
       "      <td>23.247245</td>\n",
       "    </tr>\n",
       "    <tr>\n",
       "      <th>ajay</th>\n",
       "      <td>0.046142</td>\n",
       "      <td>28.082277</td>\n",
       "    </tr>\n",
       "    <tr>\n",
       "      <th>alice</th>\n",
       "      <td>0.044774</td>\n",
       "      <td>31.485316</td>\n",
       "    </tr>\n",
       "    <tr>\n",
       "      <th>ravi</th>\n",
       "      <td>0.044013</td>\n",
       "      <td>29.285891</td>\n",
       "    </tr>\n",
       "    <tr>\n",
       "      <th>joe</th>\n",
       "      <td>0.043735</td>\n",
       "      <td>29.689153</td>\n",
       "    </tr>\n",
       "    <tr>\n",
       "      <th>jack</th>\n",
       "      <td>0.044322</td>\n",
       "      <td>25.368487</td>\n",
       "    </tr>\n",
       "    <tr>\n",
       "      <th>tom</th>\n",
       "      <td>0.045032</td>\n",
       "      <td>29.111007</td>\n",
       "    </tr>\n",
       "    <tr>\n",
       "      <th>tracy</th>\n",
       "      <td>0.045168</td>\n",
       "      <td>28.076104</td>\n",
       "    </tr>\n",
       "    <tr>\n",
       "      <th>john</th>\n",
       "      <td>0.043806</td>\n",
       "      <td>23.119682</td>\n",
       "    </tr>\n",
       "    <tr>\n",
       "      <th>simon</th>\n",
       "      <td>0.043806</td>\n",
       "      <td>23.119682</td>\n",
       "    </tr>\n",
       "    <tr>\n",
       "      <th>jacob</th>\n",
       "      <td>0.043084</td>\n",
       "      <td>24.827374</td>\n",
       "    </tr>\n",
       "    <tr>\n",
       "      <th>cindy</th>\n",
       "      <td>0.042897</td>\n",
       "      <td>26.222333</td>\n",
       "    </tr>\n",
       "    <tr>\n",
       "      <th>ivan</th>\n",
       "      <td>0.043626</td>\n",
       "      <td>23.483853</td>\n",
       "    </tr>\n",
       "  </tbody>\n",
       "</table>\n",
       "</div>"
      ],
      "text/plain": [
       "         height     weight\n",
       "name                      \n",
       "alex   0.042439  23.247245\n",
       "ajay   0.046142  28.082277\n",
       "alice  0.044774  31.485316\n",
       "ravi   0.044013  29.285891\n",
       "joe    0.043735  29.689153\n",
       "jack   0.044322  25.368487\n",
       "tom    0.045032  29.111007\n",
       "tracy  0.045168  28.076104\n",
       "john   0.043806  23.119682\n",
       "simon  0.043806  23.119682\n",
       "jacob  0.043084  24.827374\n",
       "cindy  0.042897  26.222333\n",
       "ivan   0.043626  23.483853"
      ]
     },
     "execution_count": 45,
     "metadata": {},
     "output_type": "execute_result"
    }
   ],
   "source": [
    "df_transform"
   ]
  },
  {
   "cell_type": "code",
   "execution_count": 46,
   "id": "e6f27709",
   "metadata": {},
   "outputs": [],
   "source": [
    "x = len(df_transform)"
   ]
  },
  {
   "cell_type": "code",
   "execution_count": 23,
   "id": "384214ad",
   "metadata": {},
   "outputs": [],
   "source": [
    "log('Transform End')"
   ]
  },
  {
   "cell_type": "code",
   "execution_count": 24,
   "id": "7e600681",
   "metadata": {},
   "outputs": [],
   "source": [
    "log('Load Begin')"
   ]
  },
  {
   "cell_type": "code",
   "execution_count": 25,
   "id": "c5afc3cb",
   "metadata": {},
   "outputs": [],
   "source": [
    "load('BMI.csv', df_transform)"
   ]
  },
  {
   "cell_type": "code",
   "execution_count": 26,
   "id": "6e38e8e2",
   "metadata": {},
   "outputs": [],
   "source": [
    "log('Load End')"
   ]
  },
  {
   "cell_type": "code",
   "execution_count": 27,
   "id": "675051bc",
   "metadata": {},
   "outputs": [],
   "source": [
    "log('ETL End')"
   ]
  },
  {
   "cell_type": "code",
   "execution_count": null,
   "id": "f583071f",
   "metadata": {},
   "outputs": [],
   "source": []
  }
 ],
 "metadata": {
  "kernelspec": {
   "display_name": "Python 3 (ipykernel)",
   "language": "python",
   "name": "python3"
  },
  "language_info": {
   "codemirror_mode": {
    "name": "ipython",
    "version": 3
   },
   "file_extension": ".py",
   "mimetype": "text/x-python",
   "name": "python",
   "nbconvert_exporter": "python",
   "pygments_lexer": "ipython3",
   "version": "3.9.7"
  }
 },
 "nbformat": 4,
 "nbformat_minor": 5
}
